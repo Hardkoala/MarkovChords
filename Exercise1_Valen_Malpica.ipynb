{
  "nbformat": 4,
  "nbformat_minor": 0,
  "metadata": {
    "colab": {
      "provenance": []
    },
    "kernelspec": {
      "name": "python3",
      "display_name": "Python 3"
    },
    "language_info": {
      "name": "python"
    }
  },
  "cells": [
    {
      "cell_type": "markdown",
      "source": [
        "# Probabilities for musical generation in python\n",
        "This script contains some tools for generating sequences using Markov models that can be used in music generation scenarios."
      ],
      "metadata": {
        "id": "x3VcMTSRkvWQ"
      }
    },
    {
      "cell_type": "code",
      "source": [
        "import random\n",
        "import numpy as np\n",
        "\n",
        "#UTIL FUNCTIONS:\n",
        "\n",
        "#Event List to PDF:\n",
        "def event_list_2_pdf(event_list):\n",
        "  events, counts = np.unique(event_list, return_counts=True, axis=0)\n",
        "  events=[tuple(x) for x in events]\n",
        "  pdf=counts/sum(counts)\n",
        "  return events, pdf\n",
        "\n",
        "######################################################################\n",
        "#Select Event from PDF:\n",
        "#Now lets select a random element from a PDF:\n",
        "\n",
        "def select_event_from_pdf (events, pdf):\n",
        "  event_indexes=range(len(events))\n",
        "  #print(event_indexes)\n",
        "  u= np.random.choice(event_indexes, 1, p=pdf)[0]\n",
        "  #print('u= ', u)\n",
        "  return events[u]\n",
        "\n",
        "new_event = select_event_from_pdf(events, pdf)\n",
        "print (\"new event\", new_event)\n",
        "\n",
        "######################################################################\n",
        "#Train PDF:\n",
        "def train(input_sequence):\n",
        "  observed_transitions={}\n",
        "  for i in range(len(input_sequence)-1):\n",
        "    if input_sequence[i] in observed_transitions:\n",
        "      observed_transitions[input_sequence[i]].append(input_sequence[i+1])\n",
        "    else:\n",
        "      observed_transitions[input_sequence[i]]=[input_sequence[i+1]]\n",
        "  \n",
        "  # lets print the list-based dictionary\n",
        "  print ('Observed transition dict: \\n ',observed_transitions)\n",
        "  print(\"----------------------------------\")\n",
        "  \n",
        "  # now lets make compact verisons of the values\n",
        "  pdf_dict={}\n",
        "  for key in observed_transitions:\n",
        "    #print (key, observed_transitions[key])\n",
        "    #print (event_list_2_pdf(observed_transitions[key]))\n",
        "    pdf_dict[key]=[event_list_2_pdf(observed_transitions[key])]\n",
        "  # print the compact version of the dictionary\n",
        "  print(pdf_dict)\n",
        "\n",
        "  return pdf_dict\n",
        "\n"
      ],
      "metadata": {
        "id": "MG6ltj4lwHe-",
        "colab": {
          "base_uri": "https://localhost:8080/"
        },
        "outputId": "829053fc-273d-4b55-fcb4-35ab30887910"
      },
      "execution_count": 19,
      "outputs": [
        {
          "output_type": "stream",
          "name": "stdout",
          "text": [
            "new event (0, 1)\n"
          ]
        }
      ]
    },
    {
      "cell_type": "markdown",
      "source": [
        "# Exercise 1\n",
        "Now that we know how to generate sequences at this low cost form previous observations, we would want to steer the generaiton process. For example, lets say that our events encode two variables (MIDI pitch, dynamic) and that we want to select the lowest dynamic possible because we want ourgenerated  sequence to be very calm. At each selection step we would like to make some adjustments to the PDF to increase the probability of events whose second variable is smaller. For example:\n",
        "\n",
        "If our next events are  [(0, 1), (0, 3), (2, 1), (2, 2)] and their pdf is  [0.25 0.25 0.25 0.25], we would like to increase the probability of events (0,1) and (2,1) because their second variable (dynamic) is the smallest. This means that we would be interfeering with what was observed (each future event has 25% probability) and change it so the resulting pdf is \n",
        "\n",
        "[0.5, 0, 0,5,0] \n",
        "\n",
        "This means that the selction of the next event would only be made between events (0,1) and (2,1), and that they would have 50% chance to be selected. Either of them fits us because we want elements that have small dynamic (both have 1).\n",
        "\n",
        "How do we create a function that would be called in [1] that would: \n",
        " \n",
        "\n",
        "1.   check which possible events we have at [1]\n",
        "2.   Analize input cue. For example, the generate_from_pdf funciton would need a \"dynamic\" input variable to inform what kind of dynamic we are favouring (1,2 or 3). Lets say we would want the softest, so we would call the function with a third variable with value 1.\n",
        "3.   create a multuplying_PDF array that multiplies each element of the pdf by a specific value. In our example that array would be [0.5,0,0.5,0]. And then normalize the PDF\n",
        "\n",
        "    original_pdf [0.25, 0.25, 0.25, 0.25]\n",
        "\n",
        "    multiply_pf [1,   0,    1,   0] # it is not normalized!\n",
        "\n",
        "    resultin_pdf [0.25, 0, 0.25, 0]\n",
        "\n",
        "    normaliz_pdf [0.5, 0, 0.5, 0]\n",
        "\n",
        "4.  use the resulting, normalized pdf in the select_event_from_pdf function.\n",
        "\n",
        "\n",
        "Summarizing:\n",
        "The idea is to analyze the list of events and, given what we find in it and the expressed desire when calling the function, we create a probability function (can be unnormalized) to ajust the probabilities. \n",
        "\n",
        "The idea is that if we consistently apply this transformation at every generative step we would be systematicall guiding the sequence to be of some specific kind that we requested.\n",
        "\n",
        "## Ideas for exercise 1\n",
        "The shapes of the probability functions that we generate can have very diverse shapes. For example, they can be very extreme as the one above (1 or 0) or they can consider intermediate values. Lets see: The possible events we had were [(0, 1), (0, 3), (2, 1), (2, 2)] and we wanted to favor the lowest dynamics therefore we used 1 as input variable in the function. So we could have used a funtion that would generate the inverse of the observed dynamic: observed dynamics = [1,3,1,2] -> output probabilities = [2,0,2,1]. The funciton was:\n",
        "\n",
        "(input - observed_dynamic) + 2\n",
        "\n",
        "Lets try to make our own functions to process the pdfs\n",
        "\n",
        "\n",
        "\n",
        "\n",
        "\n"
      ],
      "metadata": {
        "id": "-BdnliT-VJG4"
      }
    },
    {
      "cell_type": "code",
      "source": [
        "######################################################################\n",
        "#GENERATE FROM PDF:\n",
        "\n",
        "def generate_from_pdf(trained_pdf, N, cond):\n",
        "  output_sequence=[]\n",
        "  now=random.choice(list(trained_pdf.keys()))\n",
        "  print (f'Paso 0:{now}')\n",
        "  output_sequence.append(now)\n",
        "  for x, i in enumerate(range(N-1)):\n",
        "\n",
        "    next_events, next_pdf=trained_pdf[now][0]\n",
        "\n",
        "    list_tmp= next_events\n",
        "    print('lista2 temp', list_tmp)\n",
        "    pdf_tmp= next_pdf\n",
        "    print('pdf temp', pdf_tmp)\n",
        "\n",
        "    \n",
        "    #[1]\n",
        "\n",
        "    pdf_cond = []\n",
        "    if (cond==1): #We want to favour velocity=1\n",
        "      for tupla in list_tmp:\n",
        "        x= (tupla[1]-3)*(-1)\n",
        "        pdf_cond.append(x)\n",
        "\n",
        "    elif(cond==3): #We want to favour velocity=3\n",
        "      for tupla in list_tmp:\n",
        "        x= (tupla[1])-1\n",
        "        pdf_cond.append(x)\n",
        "\n",
        "    elif(cond==2): #We want to favour velocity=2\n",
        "      for tupla in list_tmp:\n",
        "        if (tupla[1]==2): \n",
        "          x= 2\n",
        "          pdf_cond.append(x)\n",
        "        else:\n",
        "          x=1\n",
        "          pdf_cond.append(x)\n",
        "       \n",
        "    print('PDF_COND', pdf_cond)  \n",
        "    #After conditions!    \n",
        "    pdf_new=[] #PDF_New= pdf\n",
        "    pdf_mult = [pdf_tmp[i] * pdf_cond[i] for i in range(len(pdf_tmp))] #multiply original pdf with pdf_cond\n",
        "    if (sum(pdf_mult)==0):\n",
        "      pdf_new= pdf_tmp\n",
        "    else:\n",
        "      pdf_new = [elem/sum(pdf_mult) for elem in pdf_mult]#Normalyzing new PDF\n",
        "    next= select_event_from_pdf(next_events,pdf_new)\n",
        "    #[2]\n",
        "\n",
        "    now=next\n",
        "    print(f'STEP {i+1}: Prox events: {next_events}.  NEW pdf: {pdf_new}. --> {now} \\n *+++++++++++++++++++++++++++++++++++++++++')\n",
        "    output_sequence.append(now)\n",
        "  \n",
        "  return output_sequence"
      ],
      "metadata": {
        "id": "DKu2bttNxJAp"
      },
      "execution_count": 20,
      "outputs": []
    },
    {
      "cell_type": "code",
      "source": [
        "#TEST CASE:\n",
        "######################################################################\n",
        "\n",
        "input_sequence=[(0,1),(0,1),(2,1),(2,1),(2,1), (0,1), (0,3),(0,1),(2,2),(2,2),(2,3), (0,1)]\n",
        "\n",
        "trained_pdf = train(input_sequence)\n",
        "print(trained_pdf[(0,1)][0][1])\n",
        "\n",
        "sequence = generate_from_pdf(trained_pdf, 6, 2)\n",
        "print(f\"Generated Sequence:  {sequence}\")\n"
      ],
      "metadata": {
        "colab": {
          "base_uri": "https://localhost:8080/"
        },
        "id": "uebiDly2u663",
        "outputId": "420f846d-8cd3-4361-d883-a8b1689b7eb2"
      },
      "execution_count": 21,
      "outputs": [
        {
          "output_type": "stream",
          "name": "stdout",
          "text": [
            "Observed transition dict: \n",
            "  {(0, 1): [(0, 1), (2, 1), (0, 3), (2, 2)], (2, 1): [(2, 1), (2, 1), (0, 1)], (0, 3): [(0, 1)], (2, 2): [(2, 2), (2, 3)], (2, 3): [(0, 1)]}\n",
            "----------------------------------\n",
            "{(0, 1): [([(0, 1), (0, 3), (2, 1), (2, 2)], array([0.25, 0.25, 0.25, 0.25]))], (2, 1): [([(0, 1), (2, 1)], array([0.33333333, 0.66666667]))], (0, 3): [([(0, 1)], array([1.]))], (2, 2): [([(2, 2), (2, 3)], array([0.5, 0.5]))], (2, 3): [([(0, 1)], array([1.]))]}\n",
            "[0.25 0.25 0.25 0.25]\n",
            "Paso 0:(0, 3)\n",
            "lista2 temp [(0, 1)]\n",
            "pdf temp [1.]\n",
            "PDF_COND [1]\n",
            "STEP 1: Prox events: [(0, 1)].  NEW pdf: [1.0]. --> (0, 1) \n",
            " *+++++++++++++++++++++++++++++++++++++++++\n",
            "lista2 temp [(0, 1), (0, 3), (2, 1), (2, 2)]\n",
            "pdf temp [0.25 0.25 0.25 0.25]\n",
            "PDF_COND [1, 1, 1, 2]\n",
            "STEP 2: Prox events: [(0, 1), (0, 3), (2, 1), (2, 2)].  NEW pdf: [0.2, 0.2, 0.2, 0.4]. --> (2, 2) \n",
            " *+++++++++++++++++++++++++++++++++++++++++\n",
            "lista2 temp [(2, 2), (2, 3)]\n",
            "pdf temp [0.5 0.5]\n",
            "PDF_COND [2, 1]\n",
            "STEP 3: Prox events: [(2, 2), (2, 3)].  NEW pdf: [0.6666666666666666, 0.3333333333333333]. --> (2, 2) \n",
            " *+++++++++++++++++++++++++++++++++++++++++\n",
            "lista2 temp [(2, 2), (2, 3)]\n",
            "pdf temp [0.5 0.5]\n",
            "PDF_COND [2, 1]\n",
            "STEP 4: Prox events: [(2, 2), (2, 3)].  NEW pdf: [0.6666666666666666, 0.3333333333333333]. --> (2, 3) \n",
            " *+++++++++++++++++++++++++++++++++++++++++\n",
            "lista2 temp [(0, 1)]\n",
            "pdf temp [1.]\n",
            "PDF_COND [1]\n",
            "STEP 5: Prox events: [(0, 1)].  NEW pdf: [1.0]. --> (0, 1) \n",
            " *+++++++++++++++++++++++++++++++++++++++++\n",
            "Generated Sequence:  [(0, 3), (0, 1), (2, 2), (2, 2), (2, 3), (0, 1)]\n"
          ]
        }
      ]
    }
  ]
}